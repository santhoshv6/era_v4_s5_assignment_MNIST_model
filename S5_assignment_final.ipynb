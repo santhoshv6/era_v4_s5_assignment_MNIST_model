{
  "cells": [
    {
      "cell_type": "markdown",
      "metadata": {
        "id": "N3q9aFPt3jz6"
      },
      "source": [
        "#MNIST-based CNN Classifier model with the following characteristics:\n",
        "\n",
        "- Less than 20,000 trainable parameters\n",
        "- Uses Batch Normalization, Dropout (with low thresholds), and Global Average Pooling\n",
        "- <20 training epochs for >99.4% accuracy"
      ]
    },
    {
      "cell_type": "markdown",
      "metadata": {
        "id": "TgHn4i7BOB1t"
      },
      "source": [
        "## 1️⃣ Imports and Device Setup"
      ]
    },
    {
      "cell_type": "code",
      "execution_count": 1,
      "metadata": {
        "id": "35Nip7xp2Q-M"
      },
      "outputs": [
        {
          "ename": "ModuleNotFoundError",
          "evalue": "No module named 'torch'",
          "output_type": "error",
          "traceback": [
            "\u001b[31m---------------------------------------------------------------------------\u001b[39m",
            "\u001b[31mModuleNotFoundError\u001b[39m                       Traceback (most recent call last)",
            "\u001b[36mCell\u001b[39m\u001b[36m \u001b[39m\u001b[32mIn[1]\u001b[39m\u001b[32m, line 1\u001b[39m\n\u001b[32m----> \u001b[39m\u001b[32m1\u001b[39m \u001b[38;5;28;01mimport\u001b[39;00m\u001b[38;5;250m \u001b[39m\u001b[34;01mtorch\u001b[39;00m\n\u001b[32m      2\u001b[39m \u001b[38;5;28;01mimport\u001b[39;00m\u001b[38;5;250m \u001b[39m\u001b[34;01mtorch\u001b[39;00m\u001b[34;01m.\u001b[39;00m\u001b[34;01mnn\u001b[39;00m\u001b[38;5;250m \u001b[39m\u001b[38;5;28;01mas\u001b[39;00m\u001b[38;5;250m \u001b[39m\u001b[34;01mnn\u001b[39;00m\n\u001b[32m      3\u001b[39m \u001b[38;5;28;01mimport\u001b[39;00m\u001b[38;5;250m \u001b[39m\u001b[34;01mtorch\u001b[39;00m\u001b[34;01m.\u001b[39;00m\u001b[34;01mnn\u001b[39;00m\u001b[34;01m.\u001b[39;00m\u001b[34;01mfunctional\u001b[39;00m\u001b[38;5;250m \u001b[39m\u001b[38;5;28;01mas\u001b[39;00m\u001b[38;5;250m \u001b[39m\u001b[34;01mF\u001b[39;00m\n",
            "\u001b[31mModuleNotFoundError\u001b[39m: No module named 'torch'"
          ]
        }
      ],
      "source": [
        "import torch\n",
        "import torch.nn as nn\n",
        "import torch.nn.functional as F\n",
        "import torch.optim as optim\n",
        "from torchvision import datasets, transforms\n",
        "import matplotlib.pyplot as plt\n",
        "from torch.utils.data import DataLoader,random_split\n",
        "from tqdm import tqdm\n",
        "from torchsummary import summary\n",
        "from torch.optim.lr_scheduler import OneCycleLR\n",
        "from torch.optim.lr_scheduler import CosineAnnealingLR"
      ]
    },
    {
      "cell_type": "code",
      "execution_count": 2,
      "metadata": {
        "colab": {
          "base_uri": "https://localhost:8080/"
        },
        "id": "m2RZ-nEfOZte",
        "outputId": "ef5f1de3-2cb1-473b-9a22-201fec3f276c"
      },
      "outputs": [
        {
          "name": "stdout",
          "output_type": "stream",
          "text": [
            "CUDA Available? True\n"
          ]
        }
      ],
      "source": [
        "# Use GPU if available for speed\n",
        "device = torch.device(\"cuda\" if torch.cuda.is_available() else \"cpu\")\n",
        "print(\"CUDA Available?\", torch.cuda.is_available())"
      ]
    },
    {
      "cell_type": "markdown",
      "metadata": {
        "id": "aHjDb6TXOAIT"
      },
      "source": [
        "## 2️⃣ Data Transformations (Augmentation for Train Only)\n"
      ]
    },
    {
      "cell_type": "code",
      "execution_count": 3,
      "metadata": {
        "id": "e6B0zE6x7HAB"
      },
      "outputs": [],
      "source": [
        "# Apply augmentation for training—center crop, rotation, resize, normalization\n",
        "train_transforms = transforms.Compose([\n",
        "    #transforms.RandomApply([transforms.CenterCrop(22)], p=0.1),\n",
        "    #transforms.Resize((28, 28)),\n",
        "    transforms.RandomRotation(7),\n",
        "    transforms.RandomAffine(degrees=0, translate=(0.1, 0.1), scale=(0.95, 1.05)),\n",
        "    transforms.ToTensor(),\n",
        "    transforms.Normalize((0.1307,), (0.3081,))\n",
        "])\n",
        "\n",
        "# Test data: only normalization\n",
        "test_transforms = transforms.Compose([\n",
        "    transforms.ToTensor(),\n",
        "    transforms.Normalize((0.1307,), (0.3081,))\n",
        "])"
      ]
    },
    {
      "cell_type": "markdown",
      "metadata": {
        "id": "42Mi0WNUOjhB"
      },
      "source": [
        "## 3️⃣ Dataset and DataLoader Preparation"
      ]
    },
    {
      "cell_type": "code",
      "execution_count": 4,
      "metadata": {
        "colab": {
          "base_uri": "https://localhost:8080/"
        },
        "id": "12iJvJgo7hZJ",
        "outputId": "8bed0eb8-8cb3-4c95-c0e7-1c8775fc095d"
      },
      "outputs": [
        {
          "name": "stderr",
          "output_type": "stream",
          "text": [
            "100%|██████████| 9.91M/9.91M [00:00<00:00, 16.2MB/s]\n",
            "100%|██████████| 28.9k/28.9k [00:00<00:00, 478kB/s]\n",
            "100%|██████████| 1.65M/1.65M [00:00<00:00, 4.46MB/s]\n",
            "100%|██████████| 4.54k/4.54k [00:00<00:00, 8.25MB/s]\n"
          ]
        }
      ],
      "source": [
        "# Download and transform full train dataset (60k samples)\n",
        "full_train = datasets.MNIST('./data', train=True, download=True, transform=train_transforms)\n",
        "\n",
        "# Split into 50k training + 10k \"test\" (validation considered test)\n",
        "train_size = 50000\n",
        "test_size = 10000\n",
        "train_data, test_data = random_split(full_train, [train_size, test_size])\n",
        "\n",
        "batch_size = 64\n",
        "# Efficient multi-processing and GPU-friendly DataLoader config\n",
        "train_loader = DataLoader(train_data, batch_size=batch_size, shuffle=True, num_workers=2, pin_memory=True)\n",
        "test_loader  = DataLoader(test_data,  batch_size=256, shuffle=False, num_workers=2, pin_memory=True)\n"
      ]
    },
    {
      "cell_type": "markdown",
      "metadata": {
        "id": "3Rch3O3GOqAs"
      },
      "source": [
        "## 4️⃣ Visualize A Sample Training Batch\n"
      ]
    },
    {
      "cell_type": "code",
      "execution_count": 5,
      "metadata": {
        "colab": {
          "base_uri": "https://localhost:8080/",
          "height": 487
        },
        "id": "w-eZd4Fi8ReS",
        "outputId": "a1126e9c-a1b4-49a7-a76a-c13978d89b6a"
      },
      "outputs": [
        {
          "data": {
            "image/png": "[encoded data removed]",
            "text/plain": [
              "<Figure size 800x600 with 12 Axes>"
            ]
          },
          "metadata": {},
          "output_type": "display_data"
        }
      ],
      "source": [
        "sample_batch, sample_labels = next(iter(train_loader))\n",
        "fig = plt.figure(figsize=(8, 6))\n",
        "for i in range(12):\n",
        "    plt.subplot(3, 4, i+1)\n",
        "    plt.tight_layout()\n",
        "    plt.imshow(sample_batch[i].squeeze(0), cmap='gray')\n",
        "    plt.title(str(sample_labels[i].item()))\n",
        "    plt.xticks([])\n",
        "    plt.yticks([])\n",
        "plt.show()"
      ]
    },
    {
      "cell_type": "markdown",
      "metadata": {
        "id": "JsW3w4IzOu_x"
      },
      "source": [
        "## 5️⃣ Model Definition\n"
      ]
    },
    {
      "cell_type": "code",
      "execution_count": 6,
      "metadata": {
        "id": "M629J_CP8axW"
      },
      "outputs": [],
      "source": [
        "class DSConv(nn.Module):\n",
        "    def __init__(self, in_c, out_c, k=3, s=1, p=1, dilation=1):\n",
        "        super().__init__()\n",
        "        self.dw = nn.Conv2d(in_c, in_c, k, s, p, groups=in_c, bias=False, dilation=dilation)\n",
        "        self.pw = nn.Conv2d(in_c, out_c, 1, bias=False)\n",
        "        self.bn = nn.BatchNorm2d(out_c)\n",
        "        self.act = nn.ReLU(inplace=True)\n",
        "\n",
        "    def forward(self, x):\n",
        "        x = self.dw(x)\n",
        "        x = self.pw(x)\n",
        "        x = self.bn(x)\n",
        "        x = self.act(x)\n",
        "        return x\n",
        "\n",
        "class SE(nn.Module):\n",
        "    def __init__(self, c, r=12):\n",
        "        super().__init__()\n",
        "        self.pool = nn.AdaptiveAvgPool2d(1)\n",
        "        self.fc1 = nn.Conv2d(c, c // r, 1, bias=True)\n",
        "        self.fc2 = nn.Conv2d(c // r, c, 1, bias=True)\n",
        "        self.act = nn.ReLU(inplace=True)\n",
        "        self.gate = nn.Sigmoid()\n",
        "\n",
        "    def forward(self, x):\n",
        "        w = self.pool(x)\n",
        "        w = self.act(self.fc1(w))\n",
        "        w = self.gate(self.fc2(w))\n",
        "        return x * w\n",
        "\n",
        "class CNN(nn.Module):\n",
        "    def __init__(self, num_classes=10):\n",
        "        super().__init__()\n",
        "        # Stem\n",
        "        self.stem = nn.Sequential(\n",
        "            nn.Conv2d(1, 16, 3, padding=1, bias=False),   # 1 -> 16\n",
        "            nn.BatchNorm2d(16),\n",
        "            nn.ReLU(inplace=True),\n",
        "        )\n",
        "\n",
        "        # 28x28 -> 28x28\n",
        "        self.block1 = DSConv(16, 32, k=3, s=1, p=1, dilation=1)   # 16 -> 32\n",
        "        self.pool1  = nn.MaxPool2d(2, 2)                          # 28 -> 14\n",
        "\n",
        "        # 14x14 -> 14x14\n",
        "        self.block2 = DSConv(32, 64, k=3, s=1, p=1, dilation=1)   # 32 -> 64\n",
        "        self.block3 = DSConv(64, 64, k=3, s=1, p=2, dilation=2)   # dilation to grow RF\n",
        "        self.pool2  = nn.MaxPool2d(2, 2)                          # 14 -> 7\n",
        "\n",
        "        # 7x7 -> 7x7\n",
        "        self.block4 = DSConv(64, 96, k=3, s=1, p=2, dilation=2)   # 64 -> 96\n",
        "        self.se     = SE(96, r=12)\n",
        "\n",
        "        self.gap  = nn.AdaptiveAvgPool2d(1)\n",
        "        self.drop = nn.Dropout(0.03)\n",
        "        self.fc   = nn.Linear(96, num_classes)\n",
        "\n",
        "    def forward(self, x):\n",
        "        x = self.stem(x)            # 16x28x28\n",
        "        x = self.block1(x)          # 32x28x28\n",
        "        x = self.pool1(x)           # 32x14x14\n",
        "\n",
        "        x = self.block2(x)          # 64x14x14\n",
        "        x = self.block3(x)          # 64x14x14 (dilated)\n",
        "        x = self.pool2(x)           # 64x7x7\n",
        "\n",
        "        x = self.block4(x)          # 96x7x7 (dilated)\n",
        "        x = self.se(x)              # 96x7x7\n",
        "\n",
        "        x = self.gap(x).view(x.size(0), -1)  # 96\n",
        "        x = self.drop(x)\n",
        "        x = self.fc(x)              # 10\n",
        "        return x\n",
        "\n",
        "model = CNN().to(device)\n"
      ]
    },
    {
      "cell_type": "markdown",
      "metadata": {
        "id": "oHehxdb5O2t6"
      },
      "source": [
        "## 6️⃣ Model Summary\n"
      ]
    },
    {
      "cell_type": "code",
      "execution_count": 7,
      "metadata": {
        "colab": {
          "base_uri": "https://localhost:8080/"
        },
        "id": "1ZdcU-LT8cMH",
        "outputId": "de873892-c44f-44f9-dd09-de94f89db167"
      },
      "outputs": [
        {
          "name": "stdout",
          "output_type": "stream",
          "text": [
            "----------------------------------------------------------------\n",
            "        Layer (type)               Output Shape         Param #\n",
            "================================================================\n",
            "            Conv2d-1           [-1, 16, 28, 28]             144\n",
            "       BatchNorm2d-2           [-1, 16, 28, 28]              32\n",
            "              ReLU-3           [-1, 16, 28, 28]               0\n",
            "            Conv2d-4           [-1, 16, 28, 28]             144\n",
            "            Conv2d-5           [-1, 32, 28, 28]             512\n",
            "       BatchNorm2d-6           [-1, 32, 28, 28]              64\n",
            "              ReLU-7           [-1, 32, 28, 28]               0\n",
            "            DSConv-8           [-1, 32, 28, 28]               0\n",
            "         MaxPool2d-9           [-1, 32, 14, 14]               0\n",
            "           Conv2d-10           [-1, 32, 14, 14]             288\n",
            "           Conv2d-11           [-1, 64, 14, 14]           2,048\n",
            "      BatchNorm2d-12           [-1, 64, 14, 14]             128\n",
            "             ReLU-13           [-1, 64, 14, 14]               0\n",
            "           DSConv-14           [-1, 64, 14, 14]               0\n",
            "           Conv2d-15           [-1, 64, 14, 14]             576\n",
            "           Conv2d-16           [-1, 64, 14, 14]           4,096\n",
            "      BatchNorm2d-17           [-1, 64, 14, 14]             128\n",
            "             ReLU-18           [-1, 64, 14, 14]               0\n",
            "           DSConv-19           [-1, 64, 14, 14]               0\n",
            "        MaxPool2d-20             [-1, 64, 7, 7]               0\n",
            "           Conv2d-21             [-1, 64, 7, 7]             576\n",
            "           Conv2d-22             [-1, 96, 7, 7]           6,144\n",
            "      BatchNorm2d-23             [-1, 96, 7, 7]             192\n",
            "             ReLU-24             [-1, 96, 7, 7]               0\n",
            "           DSConv-25             [-1, 96, 7, 7]               0\n",
            "AdaptiveAvgPool2d-26             [-1, 96, 1, 1]               0\n",
            "           Conv2d-27              [-1, 8, 1, 1]             776\n",
            "             ReLU-28              [-1, 8, 1, 1]               0\n",
            "           Conv2d-29             [-1, 96, 1, 1]             864\n",
            "          Sigmoid-30             [-1, 96, 1, 1]               0\n",
            "               SE-31             [-1, 96, 7, 7]               0\n",
            "AdaptiveAvgPool2d-32             [-1, 96, 1, 1]               0\n",
            "          Dropout-33                   [-1, 96]               0\n",
            "           Linear-34                   [-1, 10]             970\n",
            "================================================================\n",
            "Total params: 17,682\n",
            "Trainable params: 17,682\n",
            "Non-trainable params: 0\n",
            "----------------------------------------------------------------\n",
            "Input size (MB): 0.00\n",
            "Forward/backward pass size (MB): 2.34\n",
            "Params size (MB): 0.07\n",
            "Estimated Total Size (MB): 2.41\n",
            "----------------------------------------------------------------\n",
            "Total parameters: 17682\n"
          ]
        }
      ],
      "source": [
        "summary(model, input_size=(1, 28, 28))\n",
        "print('Total parameters:', sum(p.numel() for p in model.parameters()))"
      ]
    },
    {
      "cell_type": "markdown",
      "metadata": {
        "id": "pLxU8Aw0PCrg"
      },
      "source": [
        "## 7️⃣ Loss Tracking & Logging Structures\n"
      ]
    },
    {
      "cell_type": "code",
      "execution_count": 8,
      "metadata": {
        "id": "d31QRzto8ckh"
      },
      "outputs": [],
      "source": [
        "# Store losses/accuracies for plotting\n",
        "train_losses = []\n",
        "test_losses = []\n",
        "train_acc = []\n",
        "test_acc = []\n",
        "# Store incorrect test predictions (for further analysis if needed)\n",
        "test_incorrect_pred = {'images': [], 'ground_truths': [], 'predicted_vals': []}\n"
      ]
    },
    {
      "cell_type": "markdown",
      "metadata": {
        "id": "TD7vkYnLPG1x"
      },
      "source": [
        "## 8️⃣ Accuracy Helper Function\n"
      ]
    },
    {
      "cell_type": "code",
      "execution_count": 9,
      "metadata": {
        "id": "ghBl1kc48cxe"
      },
      "outputs": [],
      "source": [
        "def GetCorrectPredCount(prediction, labels):\n",
        "    return prediction.argmax(dim=1).eq(labels).sum().item()\n"
      ]
    },
    {
      "cell_type": "markdown",
      "metadata": {
        "id": "pEiUVJksPK18"
      },
      "source": [
        "## 9️⃣ Training and Testing Functions (with tqdm progress bar)\n"
      ]
    },
    {
      "cell_type": "code",
      "execution_count": 10,
      "metadata": {
        "id": "gpKOc3XzPPMX"
      },
      "outputs": [],
      "source": [
        "def train(model, device, train_loader, optimizer, criterion):\n",
        "    model.train()\n",
        "    pbar = tqdm(train_loader)\n",
        "    correct = 0\n",
        "    processed = 0\n",
        "    epoch_loss = 0\n",
        "\n",
        "    for batch_idx, (data, target) in enumerate(pbar):\n",
        "        data, target = data.to(device), target.to(device)\n",
        "        optimizer.zero_grad()\n",
        "        output = model(data)\n",
        "        loss = criterion(output, target)\n",
        "        loss.backward()\n",
        "        optimizer.step()\n",
        "\n",
        "        epoch_loss += loss.item()\n",
        "        correct += GetCorrectPredCount(output, target)\n",
        "        processed += len(data)\n",
        "\n",
        "        pbar.set_description(f'Train: Loss={loss.item():.4f} Batch_id={batch_idx} Accuracy={100*correct/processed:.2f}')\n",
        "\n",
        "    train_losses.append(epoch_loss/len(train_loader))\n",
        "    train_acc.append(100*correct/processed)\n",
        "\n",
        "def test(model, device, test_loader, criterion):\n",
        "    model.eval()\n",
        "    test_loss = 0\n",
        "    correct = 0\n",
        "\n",
        "    with torch.no_grad():\n",
        "        for batch_idx, (data, target) in enumerate(test_loader):\n",
        "            data, target = data.to(device), target.to(device)\n",
        "            output = model(data)\n",
        "            loss = criterion(output, target)\n",
        "            test_loss += loss.item()\n",
        "\n",
        "            correct += GetCorrectPredCount(output, target)\n",
        "\n",
        "            # Save incorrect predictions for later inspection\n",
        "            pred = output.argmax(dim=1, keepdim=True)\n",
        "            for idx in range(len(data)):\n",
        "                if pred[idx].item() != target[idx].item():\n",
        "                    test_incorrect_pred['images'].append(data[idx].cpu())\n",
        "                    test_incorrect_pred['ground_truths'].append(target[idx].cpu())\n",
        "                    test_incorrect_pred['predicted_vals'].append(pred[idx].cpu())\n",
        "\n",
        "    test_losses.append(test_loss/len(test_loader))\n",
        "    test_acc.append(100. * correct / len(test_loader.dataset))\n",
        "    print(f'Test set: Average loss: {test_loss/len(test_loader):.4f}, Accuracy: {correct}/{len(test_loader.dataset)} ({100. * correct / len(test_loader.dataset):.2f}%)')"
      ]
    },
    {
      "cell_type": "markdown",
      "metadata": {
        "id": "obVk3viMPSs-"
      },
      "source": [
        "## 🔟 Optimizer, Scheduler, Loss, Epochs\n"
      ]
    },
    {
      "cell_type": "code",
      "execution_count": 11,
      "metadata": {
        "id": "NFxjowjBPVAK"
      },
      "outputs": [],
      "source": [
        "criterion = nn.CrossEntropyLoss()  # label_smoothing can slightly hurt peak MNIST; keep it off for max accuracy\n",
        "\n",
        "optimizer = optim.SGD(\n",
        "    model.parameters(),\n",
        "    lr=0.1,\n",
        "    momentum=0.9,\n",
        "    weight_decay=5e-4,\n",
        "    nesterov=True,\n",
        ")\n",
        "\n",
        "# OneCycle must step per batch, not per epoch; pct_start helps warmup\n",
        "scheduler = OneCycleLR(\n",
        "    optimizer,\n",
        "    max_lr=0.1,\n",
        "    steps_per_epoch=len(train_loader),\n",
        "    epochs=20,\n",
        "    pct_start=0.15,\n",
        "    div_factor=10.0,\n",
        "    final_div_factor=100.0,\n",
        ")\n",
        "\n",
        "best_test_acc = 0.0\n",
        "early_stop_acc = 99.4\n",
        "epochs = 20\n"
      ]
    },
    {
      "cell_type": "markdown",
      "metadata": {
        "id": "GC_oVDltPZ0m"
      },
      "source": [
        "## 1️⃣1️⃣ Training & Testing Loop\n"
      ]
    },
    {
      "cell_type": "code",
      "execution_count": 12,
      "metadata": {
        "colab": {
          "base_uri": "https://localhost:8080/"
        },
        "id": "bmPppalSPa_Q",
        "outputId": "4806fb2d-7254-48dc-a1b8-2af6d3aa25ac"
      },
      "outputs": [
        {
          "name": "stderr",
          "output_type": "stream",
          "text": [
            "Epoch 1 Train: 100%|██████████| 782/782 [00:21<00:00, 36.07it/s, accuracy=80.6, loss=0.619]\n"
          ]
        },
        {
          "name": "stdout",
          "output_type": "stream",
          "text": [
            "Epoch 1: Train Loss=0.6188, Train Acc=80.62%, Test Loss=0.1953, Test Acc=93.75%\n",
            "Best model saved with Test Acc: 93.75%\n"
          ]
        },
        {
          "name": "stderr",
          "output_type": "stream",
          "text": [
            "Epoch 2 Train: 100%|██████████| 782/782 [00:21<00:00, 36.29it/s, accuracy=96.9, loss=0.104]\n"
          ]
        },
        {
          "name": "stdout",
          "output_type": "stream",
          "text": [
            "Epoch 2: Train Loss=0.1041, Train Acc=96.91%, Test Loss=0.0865, Test Acc=97.47%\n",
            "Best model saved with Test Acc: 97.47%\n"
          ]
        },
        {
          "name": "stderr",
          "output_type": "stream",
          "text": [
            "Epoch 3 Train: 100%|██████████| 782/782 [00:20<00:00, 37.27it/s, accuracy=97.7, loss=0.0789]\n"
          ]
        },
        {
          "name": "stdout",
          "output_type": "stream",
          "text": [
            "Epoch 3: Train Loss=0.0789, Train Acc=97.68%, Test Loss=0.0894, Test Acc=97.02%\n"
          ]
        },
        {
          "name": "stderr",
          "output_type": "stream",
          "text": [
            "Epoch 4 Train: 100%|██████████| 782/782 [00:21<00:00, 36.70it/s, accuracy=97.9, loss=0.0709]\n"
          ]
        },
        {
          "name": "stdout",
          "output_type": "stream",
          "text": [
            "Epoch 4: Train Loss=0.0709, Train Acc=97.87%, Test Loss=0.1312, Test Acc=95.69%\n"
          ]
        },
        {
          "name": "stderr",
          "output_type": "stream",
          "text": [
            "Epoch 5 Train: 100%|██████████| 782/782 [00:21<00:00, 36.81it/s, accuracy=98, loss=0.066]\n"
          ]
        },
        {
          "name": "stdout",
          "output_type": "stream",
          "text": [
            "Epoch 5: Train Loss=0.0660, Train Acc=98.00%, Test Loss=0.0778, Test Acc=97.59%\n",
            "Best model saved with Test Acc: 97.59%\n"
          ]
        },
        {
          "name": "stderr",
          "output_type": "stream",
          "text": [
            "Epoch 6 Train: 100%|██████████| 782/782 [00:21<00:00, 36.76it/s, accuracy=98.2, loss=0.0623]\n"
          ]
        },
        {
          "name": "stdout",
          "output_type": "stream",
          "text": [
            "Epoch 6: Train Loss=0.0623, Train Acc=98.20%, Test Loss=0.0867, Test Acc=97.07%\n"
          ]
        },
        {
          "name": "stderr",
          "output_type": "stream",
          "text": [
            "Epoch 7 Train: 100%|██████████| 782/782 [00:21<00:00, 35.91it/s, accuracy=98.2, loss=0.0616]\n"
          ]
        },
        {
          "name": "stdout",
          "output_type": "stream",
          "text": [
            "Epoch 7: Train Loss=0.0616, Train Acc=98.22%, Test Loss=0.1311, Test Acc=95.99%\n"
          ]
        },
        {
          "name": "stderr",
          "output_type": "stream",
          "text": [
            "Epoch 8 Train: 100%|██████████| 782/782 [00:21<00:00, 35.78it/s, accuracy=98.3, loss=0.0587]\n"
          ]
        },
        {
          "name": "stdout",
          "output_type": "stream",
          "text": [
            "Epoch 8: Train Loss=0.0587, Train Acc=98.33%, Test Loss=0.1522, Test Acc=95.44%\n"
          ]
        },
        {
          "name": "stderr",
          "output_type": "stream",
          "text": [
            "Epoch 9 Train: 100%|██████████| 782/782 [00:22<00:00, 35.19it/s, accuracy=98.3, loss=0.0581]\n"
          ]
        },
        {
          "name": "stdout",
          "output_type": "stream",
          "text": [
            "Epoch 9: Train Loss=0.0581, Train Acc=98.27%, Test Loss=0.0955, Test Acc=97.16%\n"
          ]
        },
        {
          "name": "stderr",
          "output_type": "stream",
          "text": [
            "Epoch 10 Train: 100%|██████████| 782/782 [00:22<00:00, 35.21it/s, accuracy=98.4, loss=0.0548]\n"
          ]
        },
        {
          "name": "stdout",
          "output_type": "stream",
          "text": [
            "Epoch 10: Train Loss=0.0548, Train Acc=98.37%, Test Loss=0.1012, Test Acc=96.80%\n"
          ]
        },
        {
          "name": "stderr",
          "output_type": "stream",
          "text": [
            "Epoch 11 Train: 100%|██████████| 782/782 [00:22<00:00, 34.71it/s, accuracy=98.5, loss=0.0529]\n"
          ]
        },
        {
          "name": "stdout",
          "output_type": "stream",
          "text": [
            "Epoch 11: Train Loss=0.0529, Train Acc=98.47%, Test Loss=0.0761, Test Acc=97.60%\n",
            "Best model saved with Test Acc: 97.60%\n"
          ]
        },
        {
          "name": "stderr",
          "output_type": "stream",
          "text": [
            "Epoch 12 Train: 100%|██████████| 782/782 [00:22<00:00, 34.79it/s, accuracy=98.5, loss=0.0508]\n"
          ]
        },
        {
          "name": "stdout",
          "output_type": "stream",
          "text": [
            "Epoch 12: Train Loss=0.0508, Train Acc=98.48%, Test Loss=0.0632, Test Acc=98.04%\n",
            "Best model saved with Test Acc: 98.04%\n"
          ]
        },
        {
          "name": "stderr",
          "output_type": "stream",
          "text": [
            "Epoch 13 Train: 100%|██████████| 782/782 [00:22<00:00, 34.75it/s, accuracy=98.6, loss=0.0489]\n"
          ]
        },
        {
          "name": "stdout",
          "output_type": "stream",
          "text": [
            "Epoch 13: Train Loss=0.0489, Train Acc=98.57%, Test Loss=0.0423, Test Acc=98.87%\n",
            "Best model saved with Test Acc: 98.87%\n"
          ]
        },
        {
          "name": "stderr",
          "output_type": "stream",
          "text": [
            "Epoch 14 Train: 100%|██████████| 782/782 [00:22<00:00, 34.82it/s, accuracy=98.7, loss=0.0457]\n"
          ]
        },
        {
          "name": "stdout",
          "output_type": "stream",
          "text": [
            "Epoch 14: Train Loss=0.0457, Train Acc=98.68%, Test Loss=0.0544, Test Acc=98.39%\n"
          ]
        },
        {
          "name": "stderr",
          "output_type": "stream",
          "text": [
            "Epoch 15 Train: 100%|██████████| 782/782 [00:22<00:00, 35.43it/s, accuracy=98.8, loss=0.0411]\n"
          ]
        },
        {
          "name": "stdout",
          "output_type": "stream",
          "text": [
            "Epoch 15: Train Loss=0.0411, Train Acc=98.83%, Test Loss=0.0400, Test Acc=98.85%\n"
          ]
        },
        {
          "name": "stderr",
          "output_type": "stream",
          "text": [
            "Epoch 16 Train: 100%|██████████| 782/782 [00:23<00:00, 33.36it/s, accuracy=99, loss=0.0366]\n"
          ]
        },
        {
          "name": "stdout",
          "output_type": "stream",
          "text": [
            "Epoch 16: Train Loss=0.0366, Train Acc=99.00%, Test Loss=0.0353, Test Acc=98.89%\n",
            "Best model saved with Test Acc: 98.89%\n"
          ]
        },
        {
          "name": "stderr",
          "output_type": "stream",
          "text": [
            "Epoch 17 Train: 100%|██████████| 782/782 [00:22<00:00, 34.51it/s, accuracy=99.1, loss=0.0321]\n"
          ]
        },
        {
          "name": "stdout",
          "output_type": "stream",
          "text": [
            "Epoch 17: Train Loss=0.0321, Train Acc=99.09%, Test Loss=0.0300, Test Acc=99.23%\n",
            "Best model saved with Test Acc: 99.23%\n"
          ]
        },
        {
          "name": "stderr",
          "output_type": "stream",
          "text": [
            "Epoch 18 Train: 100%|██████████| 782/782 [00:22<00:00, 34.51it/s, accuracy=99.3, loss=0.0271]\n"
          ]
        },
        {
          "name": "stdout",
          "output_type": "stream",
          "text": [
            "Epoch 18: Train Loss=0.0271, Train Acc=99.26%, Test Loss=0.0225, Test Acc=99.36%\n",
            "Best model saved with Test Acc: 99.36%\n"
          ]
        },
        {
          "name": "stderr",
          "output_type": "stream",
          "text": [
            "Epoch 19 Train: 100%|██████████| 782/782 [00:22<00:00, 34.51it/s, accuracy=99.4, loss=0.0226]\n"
          ]
        },
        {
          "name": "stdout",
          "output_type": "stream",
          "text": [
            "Epoch 19: Train Loss=0.0226, Train Acc=99.35%, Test Loss=0.0213, Test Acc=99.44%\n",
            "Best model saved with Test Acc: 99.44%\n",
            "Early stopping at epoch 19 as test accuracy reached 99.44%\n"
          ]
        }
      ],
      "source": [
        "for epoch in range(1, epochs + 1):\n",
        "    model.train()\n",
        "    train_loss, correct, total = 0.0, 0, 0\n",
        "    pbar = tqdm(train_loader, desc=f\"Epoch {epoch} Train\")\n",
        "\n",
        "    for data, target in pbar:\n",
        "        data, target = data.to(device), target.to(device)\n",
        "        optimizer.zero_grad()\n",
        "        output = model(data)\n",
        "        loss = criterion(output, target)\n",
        "        loss.backward()\n",
        "\n",
        "        # mild gradient clipping for stability at higher lrs\n",
        "        torch.nn.utils.clip_grad_norm_(model.parameters(), max_norm=1.0)\n",
        "\n",
        "        optimizer.step()\n",
        "        scheduler.step()  # OneCycleLR: step per batch\n",
        "\n",
        "        train_loss += loss.item() * data.size(0)\n",
        "        correct += (output.argmax(1) == target).sum().item()\n",
        "        total += data.size(0)\n",
        "        pbar.set_postfix(loss=train_loss/total, accuracy=100*correct/total)\n",
        "\n",
        "    train_loss /= total\n",
        "    train_acc = 100.0 * correct / total\n",
        "\n",
        "    # Eval (unchanged structure)\n",
        "    model.eval()\n",
        "    test_loss, test_correct, test_total = 0.0, 0, 0\n",
        "    with torch.no_grad():\n",
        "        for data, target in test_loader:\n",
        "            data, target = data.to(device), target.to(device)\n",
        "            output = model(data)\n",
        "            loss = criterion(output, target)\n",
        "            test_loss += loss.item() * data.size(0)\n",
        "            test_correct += (output.argmax(1) == target).sum().item()\n",
        "            test_total += data.size(0)\n",
        "\n",
        "    test_loss /= test_total\n",
        "    test_acc = 100.0 * test_correct / test_total\n",
        "\n",
        "    print(f\"Epoch {epoch}: Train Loss={train_loss:.4f}, Train Acc={train_acc:.2f}%, \"\n",
        "          f\"Test Loss={test_loss:.4f}, Test Acc={test_acc:.2f}%\")\n",
        "\n",
        "    if test_acc > best_test_acc:\n",
        "        best_test_acc = test_acc\n",
        "        torch.save(model.state_dict(), 'best_model.pth')\n",
        "        print(f\"Best model saved with Test Acc: {best_test_acc:.2f}%\")\n",
        "\n",
        "    if test_acc >= early_stop_acc:\n",
        "        print(f\"Early stopping at epoch {epoch} as test accuracy reached {test_acc:.2f}%\")\n",
        "        break\n"
      ]
    },
    {
      "cell_type": "markdown",
      "metadata": {
        "id": "SZB3ClOZPwWC"
      },
      "source": []
    }
  ],
  "metadata": {
    "accelerator": "GPU",
    "colab": {
      "gpuType": "T4",
      "provenance": []
    },
    "kernelspec": {
      "display_name": "Python 3",
      "name": "python3"
    },
    "language_info": {
      "codemirror_mode": {
        "name": "ipython",
        "version": 3
      },
      "file_extension": ".py",
      "mimetype": "text/x-python",
      "name": "python",
      "nbconvert_exporter": "python",
      "pygments_lexer": "ipython3",
      "version": "3.13.7"
    }
  },
  "nbformat": 4,
  "nbformat_minor": 0
}
